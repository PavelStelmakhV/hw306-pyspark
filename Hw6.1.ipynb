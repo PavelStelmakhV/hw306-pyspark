{
  "nbformat": 4,
  "nbformat_minor": 0,
  "metadata": {
    "colab": {
      "provenance": [],
      "authorship_tag": "ABX9TyOefjcRE3KJzga81m1FkX55",
      "include_colab_link": true
    },
    "kernelspec": {
      "name": "python3",
      "display_name": "Python 3"
    },
    "language_info": {
      "name": "python"
    }
  },
  "cells": [
    {
      "cell_type": "markdown",
      "metadata": {
        "id": "view-in-github",
        "colab_type": "text"
      },
      "source": [
        "<a href=\"https://colab.research.google.com/github/PavelStelmakhV/hw306-pyspark/blob/main/Hw6.1.ipynb\" target=\"_parent\"><img src=\"https://colab.research.google.com/assets/colab-badge.svg\" alt=\"Open In Colab\"/></a>"
      ]
    },
    {
      "cell_type": "code",
      "source": [
        "!pip install pyspark"
      ],
      "metadata": {
        "id": "yXOiEmERX6a0",
        "outputId": "6466bec4-0840-4c46-d858-d0df231cf9da",
        "colab": {
          "base_uri": "https://localhost:8080/"
        }
      },
      "execution_count": 1,
      "outputs": [
        {
          "output_type": "stream",
          "name": "stdout",
          "text": [
            "Looking in indexes: https://pypi.org/simple, https://us-python.pkg.dev/colab-wheels/public/simple/\n",
            "Collecting pyspark\n",
            "  Downloading pyspark-3.4.0.tar.gz (310.8 MB)\n",
            "\u001b[2K     \u001b[90m━━━━━━━━━━━━━━━━━━━━━━━━━━━━━━━━━━━━━━━\u001b[0m \u001b[32m310.8/310.8 MB\u001b[0m \u001b[31m4.0 MB/s\u001b[0m eta \u001b[36m0:00:00\u001b[0m\n",
            "\u001b[?25h  Preparing metadata (setup.py) ... \u001b[?25l\u001b[?25hdone\n",
            "Requirement already satisfied: py4j==0.10.9.7 in /usr/local/lib/python3.9/dist-packages (from pyspark) (0.10.9.7)\n",
            "Building wheels for collected packages: pyspark\n",
            "  Building wheel for pyspark (setup.py) ... \u001b[?25l\u001b[?25hdone\n",
            "  Created wheel for pyspark: filename=pyspark-3.4.0-py2.py3-none-any.whl size=311317145 sha256=6f9cb0c7271c8628904c24fec6724b75469332fe39252caab20d9a345dd1b785\n",
            "  Stored in directory: /root/.cache/pip/wheels/9f/34/a4/159aa12d0a510d5ff7c8f0220abbea42e5d81ecf588c4fd884\n",
            "Successfully built pyspark\n",
            "Installing collected packages: pyspark\n",
            "Successfully installed pyspark-3.4.0\n"
          ]
        }
      ]
    },
    {
      "cell_type": "code",
      "execution_count": 2,
      "metadata": {
        "colab": {
          "base_uri": "https://localhost:8080/"
        },
        "id": "yp88cnmRO9g8",
        "outputId": "55caf296-7e8c-43b1-b7e9-5940ae3b332f"
      },
      "outputs": [
        {
          "output_type": "stream",
          "name": "stdout",
          "text": [
            "Mounted at /content/drive\n"
          ]
        }
      ],
      "source": [
        "from google.colab import drive\n",
        "from google.colab import files\n",
        "\n",
        "\n",
        "drive.mount('/content/drive')\n",
        "path = '/content/drive/My Drive/'\n",
        "file_name = 'bestsellers with categories.csv'"
      ]
    },
    {
      "cell_type": "code",
      "source": [
        "import pandas as pd\n",
        "import pyspark\n",
        "from pyspark.sql import Row\n",
        "from pyspark.sql import SparkSession\n",
        "from pyspark.sql.functions import mean, stddev, round as _round\n",
        "\n",
        "\n",
        "# sc = pyspark.SparkContext()\n",
        "# spark_session = SparkSession.builder.getOrCreate()\n",
        "\n",
        "spark = SparkSession.builder\\\n",
        "        .master(\"local[*]\")\\\n",
        "        .appName('Hw6.1')\\\n",
        "        .getOrCreate()"
      ],
      "metadata": {
        "id": "r1yQLXe6Qngg"
      },
      "execution_count": 15,
      "outputs": []
    },
    {
      "cell_type": "code",
      "source": [
        "csv_file = path + file_name\n",
        "df = spark.read.csv(csv_file, header=True,)"
      ],
      "metadata": {
        "id": "SHKzMEqlodNG"
      },
      "execution_count": 16,
      "outputs": []
    },
    {
      "cell_type": "code",
      "source": [
        "df.show()"
      ],
      "metadata": {
        "colab": {
          "base_uri": "https://localhost:8080/"
        },
        "id": "8EKr89-OqvXB",
        "outputId": "7e2502d7-9fab-44db-e293-42af422bb1c3"
      },
      "execution_count": 6,
      "outputs": [
        {
          "output_type": "stream",
          "name": "stdout",
          "text": [
            "+--------------------+--------------------+-----------+-------+-----+----+-----------+\n",
            "|                Name|              Author|User Rating|Reviews|Price|Year|      Genre|\n",
            "+--------------------+--------------------+-----------+-------+-----+----+-----------+\n",
            "|10-Day Green Smoo...|            JJ Smith|        4.7|  17350|    8|2016|Non Fiction|\n",
            "|   11/22/63: A Novel|        Stephen King|        4.6|   2052|   22|2011|    Fiction|\n",
            "|12 Rules for Life...|  Jordan B. Peterson|        4.7|  18979|   15|2018|Non Fiction|\n",
            "|1984 (Signet Clas...|       George Orwell|        4.7|  21424|    6|2017|    Fiction|\n",
            "|5,000 Awesome Fac...|National Geograph...|        4.8|   7665|   12|2019|Non Fiction|\n",
            "|A Dance with Drag...| George R. R. Martin|        4.4|  12643|   11|2011|    Fiction|\n",
            "|A Game of Thrones...| George R. R. Martin|        4.7|  19735|   30|2014|    Fiction|\n",
            "|A Gentleman in Mo...|         Amor Towles|        4.7|  19699|   15|2017|    Fiction|\n",
            "|A Higher Loyalty:...|         James Comey|        4.7|   5983|    3|2018|Non Fiction|\n",
            "|A Man Called Ove:...|     Fredrik Backman|        4.6|  23848|    8|2016|    Fiction|\n",
            "|A Man Called Ove:...|     Fredrik Backman|        4.6|  23848|    8|2017|    Fiction|\n",
            "|A Patriot's Histo...|    Larry Schweikart|        4.6|    460|    2|2010|Non Fiction|\n",
            "|A Stolen Life: A ...|       Jaycee Dugard|        4.6|   4149|   32|2011|Non Fiction|\n",
            "|A Wrinkle in Time...|   Madeleine L'Engle|        4.5|   5153|    5|2018|    Fiction|\n",
            "|Act Like a Lady, ...|        Steve Harvey|        4.6|   5013|   17|2009|Non Fiction|\n",
            "|Adult Coloring Bo...|Adult Coloring Bo...|        4.5|   2313|    4|2016|Non Fiction|\n",
            "|Adult Coloring Bo...|  Blue Star Coloring|        4.6|   2925|    6|2015|Non Fiction|\n",
            "|Adult Coloring Bo...|  Blue Star Coloring|        4.4|   2951|    6|2015|Non Fiction|\n",
            "|Adult Coloring Bo...|Coloring Books fo...|        4.5|   2426|    8|2015|Non Fiction|\n",
            "|  Alexander Hamilton|         Ron Chernow|        4.8|   9198|   13|2016|Non Fiction|\n",
            "+--------------------+--------------------+-----------+-------+-----+----+-----------+\n",
            "only showing top 20 rows\n",
            "\n"
          ]
        }
      ]
    },
    {
      "cell_type": "markdown",
      "source": [
        "Используя только RDD вычислить среднюю цену всех книг, у которых рейтинг выше 4.7"
      ],
      "metadata": {
        "id": "5wMh3-TFYuip"
      }
    },
    {
      "cell_type": "code",
      "source": [
        "df.printSchema()"
      ],
      "metadata": {
        "id": "swUHTvhbxpc2",
        "outputId": "ace66000-2931-460c-c793-e33601e29148",
        "colab": {
          "base_uri": "https://localhost:8080/"
        }
      },
      "execution_count": 22,
      "outputs": [
        {
          "output_type": "stream",
          "name": "stdout",
          "text": [
            "root\n",
            " |-- Name: string (nullable = true)\n",
            " |-- Author: string (nullable = true)\n",
            " |-- User Rating: string (nullable = true)\n",
            " |-- Reviews: string (nullable = true)\n",
            " |-- Price: string (nullable = true)\n",
            " |-- Year: string (nullable = true)\n",
            " |-- Genre: string (nullable = true)\n",
            "\n"
          ]
        }
      ]
    }
  ]
}