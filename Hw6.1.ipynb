{
  "nbformat": 4,
  "nbformat_minor": 0,
  "metadata": {
    "colab": {
      "provenance": [],
      "authorship_tag": "ABX9TyOocV1mhTIdxU3fO6RbWk8u",
      "include_colab_link": true
    },
    "kernelspec": {
      "name": "python3",
      "display_name": "Python 3"
    },
    "language_info": {
      "name": "python"
    }
  },
  "cells": [
    {
      "cell_type": "markdown",
      "metadata": {
        "id": "view-in-github",
        "colab_type": "text"
      },
      "source": [
        "<a href=\"https://colab.research.google.com/github/PavelStelmakhV/hw306-pyspark/blob/main/Hw6.1.ipynb\" target=\"_parent\"><img src=\"https://colab.research.google.com/assets/colab-badge.svg\" alt=\"Open In Colab\"/></a>"
      ]
    },
    {
      "cell_type": "code",
      "source": [
        "!pip install pyspark"
      ],
      "metadata": {
        "id": "yXOiEmERX6a0",
        "outputId": "4956ad1a-f77d-434c-8b78-9a0933eaa225",
        "colab": {
          "base_uri": "https://localhost:8080/"
        }
      },
      "execution_count": 1,
      "outputs": [
        {
          "output_type": "stream",
          "name": "stdout",
          "text": [
            "Looking in indexes: https://pypi.org/simple, https://us-python.pkg.dev/colab-wheels/public/simple/\n",
            "Collecting pyspark\n",
            "  Downloading pyspark-3.4.0.tar.gz (310.8 MB)\n",
            "\u001b[2K     \u001b[90m━━━━━━━━━━━━━━━━━━━━━━━━━━━━━━━━━━━━━━━\u001b[0m \u001b[32m310.8/310.8 MB\u001b[0m \u001b[31m4.0 MB/s\u001b[0m eta \u001b[36m0:00:00\u001b[0m\n",
            "\u001b[?25h  Preparing metadata (setup.py) ... \u001b[?25l\u001b[?25hdone\n",
            "Requirement already satisfied: py4j==0.10.9.7 in /usr/local/lib/python3.9/dist-packages (from pyspark) (0.10.9.7)\n",
            "Building wheels for collected packages: pyspark\n",
            "  Building wheel for pyspark (setup.py) ... \u001b[?25l\u001b[?25hdone\n",
            "  Created wheel for pyspark: filename=pyspark-3.4.0-py2.py3-none-any.whl size=311317145 sha256=145fd819e92ddc5df0112df79dfbfbe2cd0286a136905275fe75444c13ad32f4\n",
            "  Stored in directory: /root/.cache/pip/wheels/9f/34/a4/159aa12d0a510d5ff7c8f0220abbea42e5d81ecf588c4fd884\n",
            "Successfully built pyspark\n",
            "Installing collected packages: pyspark\n",
            "Successfully installed pyspark-3.4.0\n"
          ]
        }
      ]
    },
    {
      "cell_type": "code",
      "execution_count": 2,
      "metadata": {
        "colab": {
          "base_uri": "https://localhost:8080/"
        },
        "id": "yp88cnmRO9g8",
        "outputId": "c632a145-fd81-4b02-abfb-bc27a63d1421"
      },
      "outputs": [
        {
          "output_type": "stream",
          "name": "stdout",
          "text": [
            "Mounted at /content/drive\n"
          ]
        }
      ],
      "source": [
        "from google.colab import drive\n",
        "from google.colab import files\n",
        "\n",
        "\n",
        "drive.mount('/content/drive')\n",
        "path = '/content/drive/My Drive/'\n",
        "file_name = 'bestsellers with categories.csv'"
      ]
    },
    {
      "cell_type": "code",
      "source": [
        "import pandas as pd\n",
        "import pyspark\n",
        "from pyspark.sql import Row\n",
        "from pyspark.sql import SparkSession\n",
        "from pyspark.sql.functions import mean, stddev, round as _round\n",
        "from pyspark.sql.types import *\n"
      ],
      "metadata": {
        "id": "r1yQLXe6Qngg"
      },
      "execution_count": 3,
      "outputs": []
    },
    {
      "cell_type": "code",
      "source": [
        "spark = SparkSession.builder.getOrCreate()"
      ],
      "metadata": {
        "id": "ttVi--k8QpUa"
      },
      "execution_count": 4,
      "outputs": []
    },
    {
      "cell_type": "code",
      "source": [
        "data_schema = [\n",
        "               StructField('name', StringType(), True),\n",
        "               StructField('author', StringType(), True),\n",
        "               StructField('user_rating', FloatType(), True),\n",
        "               StructField('reviews', IntegerType(), True),\n",
        "               StructField('price', FloatType(), True),\n",
        "               StructField('year', IntegerType(), True),\n",
        "               StructField('genre', StringType(), True),\n",
        "            ]\n",
        "\n",
        "final_struc = StructType(fields = data_schema)"
      ],
      "metadata": {
        "id": "QtOK9KARf8fl"
      },
      "execution_count": 5,
      "outputs": []
    },
    {
      "cell_type": "code",
      "source": [
        "csv_file = path + file_name\n",
        "df = spark.read.csv(csv_file, header=True, schema=final_struc)"
      ],
      "metadata": {
        "id": "SHKzMEqlodNG"
      },
      "execution_count": 6,
      "outputs": []
    },
    {
      "cell_type": "code",
      "source": [
        "df.show(3)"
      ],
      "metadata": {
        "colab": {
          "base_uri": "https://localhost:8080/"
        },
        "id": "8EKr89-OqvXB",
        "outputId": "35586ea5-3c38-45b9-9817-4a84924c6a04"
      },
      "execution_count": 7,
      "outputs": [
        {
          "output_type": "stream",
          "name": "stdout",
          "text": [
            "+--------------------+------------------+-----------+-------+-----+----+-----------+\n",
            "|                name|            author|user_rating|reviews|price|year|      genre|\n",
            "+--------------------+------------------+-----------+-------+-----+----+-----------+\n",
            "|10-Day Green Smoo...|          JJ Smith|        4.7|  17350|  8.0|2016|Non Fiction|\n",
            "|   11/22/63: A Novel|      Stephen King|        4.6|   2052| 22.0|2011|    Fiction|\n",
            "|12 Rules for Life...|Jordan B. Peterson|        4.7|  18979| 15.0|2018|Non Fiction|\n",
            "+--------------------+------------------+-----------+-------+-----+----+-----------+\n",
            "only showing top 3 rows\n",
            "\n"
          ]
        }
      ]
    },
    {
      "cell_type": "markdown",
      "source": [
        "Используя только RDD вычислить среднюю цену всех книг, у которых рейтинг выше 4.7"
      ],
      "metadata": {
        "id": "5wMh3-TFYuip"
      }
    },
    {
      "cell_type": "code",
      "source": [
        "df.filter(df.user_rating >= 4.7).agg({\"price\": \"avg\"}).show()"
      ],
      "metadata": {
        "id": "i27gnEVO30r8",
        "outputId": "a2c1673e-2650-43f3-df17-37547c8aef88",
        "colab": {
          "base_uri": "https://localhost:8080/"
        }
      },
      "execution_count": 8,
      "outputs": [
        {
          "output_type": "stream",
          "name": "stdout",
          "text": [
            "+-----------------+\n",
            "|       avg(price)|\n",
            "+-----------------+\n",
            "|10.69832402234637|\n",
            "+-----------------+\n",
            "\n"
          ]
        }
      ]
    },
    {
      "cell_type": "markdown",
      "source": [
        "Построить гистограмму распределения рецензий (столбец Reviews)."
      ],
      "metadata": {
        "id": "N9LEFSthxTd9"
      }
    },
    {
      "cell_type": "code",
      "source": [
        "import matplotlib.pyplot as plt\n",
        "\n",
        "plt.figure(figsize = (14,6))\n",
        "plt.hist(df.toPandas()['reviews'], color = 'blue', edgecolor = 'black', bins = 100)\n",
        "plt.xlabel('Reviews')\n",
        "plt.ylabel('Frequency')\n",
        "plt.xlim(0, None)\n",
        "plt.grid(linestyle='--', axis='y')\n",
        "plt.show()"
      ],
      "metadata": {
        "id": "b6g3BTz4POe0",
        "outputId": "36291ab2-6bc1-40d7-b7c4-611fa387b0c9",
        "colab": {
          "base_uri": "https://localhost:8080/",
          "height": 542
        }
      },
      "execution_count": 9,
      "outputs": [
        {
          "output_type": "display_data",
          "data": {
            "text/plain": [
              "<Figure size 1400x600 with 1 Axes>"
            ],
            "image/png": "[encoded data removed]"
          },
          "metadata": {}
        }
      ]
    },
    {
      "cell_type": "markdown",
      "source": [
        "Построить матрицу корреляции для столбцов \"User Rating\", \"Reviews\" и \"Price\"."
      ],
      "metadata": {
        "id": "psS8TO2a78Sw"
      }
    },
    {
      "cell_type": "code",
      "source": [
        "from pyspark.ml.linalg import Vectors\n",
        "from pyspark.ml.feature import VectorAssembler\n",
        "from pyspark.ml.stat import Correlation\n",
        "\n",
        "assembler = VectorAssembler(\n",
        "    inputCols=[\"user_rating\", \"reviews\", \"price\"],\n",
        "    outputCol=\"features\")\n",
        "df_features = assembler.transform(df)\n",
        "r1 = Correlation.corr(df_features, \"features\").head()\n",
        "print(\"Pearson correlation matrix (user_rating, reviews, price):\\n\" + str(r1[0]))"
      ],
      "metadata": {
        "id": "CgKiI5sev20d",
        "outputId": "09c0a3ee-7e02-405f-d95c-9202d2a48b3e",
        "colab": {
          "base_uri": "https://localhost:8080/"
        }
      },
      "execution_count": 23,
      "outputs": [
        {
          "output_type": "stream",
          "name": "stdout",
          "text": [
            "Pearson correlation matrix (user_rating, reviews, price):\n",
            "DenseMatrix([[ 1.        , -0.00172901, -0.13308631],\n",
            "             [-0.00172901,  1.        , -0.10918188],\n",
            "             [-0.13308631, -0.10918188,  1.        ]])\n"
          ]
        }
      ]
    }
  ]
}