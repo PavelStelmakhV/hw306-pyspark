{
  "nbformat": 4,
  "nbformat_minor": 0,
  "metadata": {
    "colab": {
      "provenance": [],
      "authorship_tag": "ABX9TyO5rx6++hLnd+/1F+ku3zCb",
      "include_colab_link": true
    },
    "kernelspec": {
      "name": "python3",
      "display_name": "Python 3"
    },
    "language_info": {
      "name": "python"
    }
  },
  "cells": [
    {
      "cell_type": "markdown",
      "metadata": {
        "id": "view-in-github",
        "colab_type": "text"
      },
      "source": [
        "<a href=\"https://colab.research.google.com/github/PavelStelmakhV/hw306-pyspark/blob/main/Hw6.1.ipynb\" target=\"_parent\"><img src=\"https://colab.research.google.com/assets/colab-badge.svg\" alt=\"Open In Colab\"/></a>"
      ]
    },
    {
      "cell_type": "code",
      "source": [
        "!pip install pyspark"
      ],
      "metadata": {
        "id": "yXOiEmERX6a0",
        "outputId": "64eaac36-933e-4ed8-f99c-049d3c3428e6",
        "colab": {
          "base_uri": "https://localhost:8080/"
        }
      },
      "execution_count": 1,
      "outputs": [
        {
          "output_type": "stream",
          "name": "stdout",
          "text": [
            "Looking in indexes: https://pypi.org/simple, https://us-python.pkg.dev/colab-wheels/public/simple/\n",
            "Collecting pyspark\n",
            "  Downloading pyspark-3.4.0.tar.gz (310.8 MB)\n",
            "\u001b[2K     \u001b[90m━━━━━━━━━━━━━━━━━━━━━━━━━━━━━━━━━━━━━━━\u001b[0m \u001b[32m310.8/310.8 MB\u001b[0m \u001b[31m3.9 MB/s\u001b[0m eta \u001b[36m0:00:00\u001b[0m\n",
            "\u001b[?25h  Preparing metadata (setup.py) ... \u001b[?25l\u001b[?25hdone\n",
            "Requirement already satisfied: py4j==0.10.9.7 in /usr/local/lib/python3.9/dist-packages (from pyspark) (0.10.9.7)\n",
            "Building wheels for collected packages: pyspark\n",
            "  Building wheel for pyspark (setup.py) ... \u001b[?25l\u001b[?25hdone\n",
            "  Created wheel for pyspark: filename=pyspark-3.4.0-py2.py3-none-any.whl size=311317145 sha256=76dcdc675b12ee7fce468904912f0ad45437eb1343a7f0cee5061ff4af7dc607\n",
            "  Stored in directory: /root/.cache/pip/wheels/9f/34/a4/159aa12d0a510d5ff7c8f0220abbea42e5d81ecf588c4fd884\n",
            "Successfully built pyspark\n",
            "Installing collected packages: pyspark\n",
            "Successfully installed pyspark-3.4.0\n"
          ]
        }
      ]
    },
    {
      "cell_type": "code",
      "execution_count": 2,
      "metadata": {
        "colab": {
          "base_uri": "https://localhost:8080/"
        },
        "id": "yp88cnmRO9g8",
        "outputId": "f2e794b4-b34c-49f5-d75c-fcee440dae73"
      },
      "outputs": [
        {
          "output_type": "stream",
          "name": "stdout",
          "text": [
            "Mounted at /content/drive\n"
          ]
        }
      ],
      "source": [
        "from google.colab import drive\n",
        "from google.colab import files\n",
        "\n",
        "\n",
        "drive.mount('/content/drive')\n",
        "path = '/content/drive/My Drive/'\n",
        "file_name = 'bestsellers with categories.csv'"
      ]
    },
    {
      "cell_type": "code",
      "source": [
        "import pandas as pd\n",
        "import pyspark\n",
        "from pyspark.sql import Row\n",
        "from pyspark.sql import SparkSession\n",
        "from pyspark.sql.functions import mean, stddev, round as _round\n",
        "from pyspark.sql.types import *\n"
      ],
      "metadata": {
        "id": "r1yQLXe6Qngg"
      },
      "execution_count": 3,
      "outputs": []
    },
    {
      "cell_type": "code",
      "source": [
        "spark = SparkSession.builder.getOrCreate()"
      ],
      "metadata": {
        "id": "ttVi--k8QpUa"
      },
      "execution_count": 4,
      "outputs": []
    },
    {
      "cell_type": "code",
      "source": [
        "data_schema = [\n",
        "               StructField('name', StringType(), True),\n",
        "               StructField('author', StringType(), True),\n",
        "               StructField('user_rating', FloatType(), True),\n",
        "               StructField('reviews', IntegerType(), True),\n",
        "               StructField('price', FloatType(), True),\n",
        "               StructField('year', IntegerType(), True),\n",
        "               StructField('genre', StringType(), True),\n",
        "            ]\n",
        "\n",
        "final_struc = StructType(fields = data_schema)"
      ],
      "metadata": {
        "id": "QtOK9KARf8fl"
      },
      "execution_count": 5,
      "outputs": []
    },
    {
      "cell_type": "code",
      "source": [
        "csv_file = path + file_name\n",
        "df = spark.read.csv(csv_file, header=True, schema=final_struc)"
      ],
      "metadata": {
        "id": "SHKzMEqlodNG"
      },
      "execution_count": 6,
      "outputs": []
    },
    {
      "cell_type": "code",
      "source": [
        "df.show(3)"
      ],
      "metadata": {
        "colab": {
          "base_uri": "https://localhost:8080/"
        },
        "id": "8EKr89-OqvXB",
        "outputId": "dd906e45-1148-499f-c758-6dacfbac237a"
      },
      "execution_count": 7,
      "outputs": [
        {
          "output_type": "stream",
          "name": "stdout",
          "text": [
            "+--------------------+------------------+-----------+-------+-----+----+-----------+\n",
            "|                name|            author|user_rating|reviews|price|year|      genre|\n",
            "+--------------------+------------------+-----------+-------+-----+----+-----------+\n",
            "|10-Day Green Smoo...|          JJ Smith|        4.7|  17350|  8.0|2016|Non Fiction|\n",
            "|   11/22/63: A Novel|      Stephen King|        4.6|   2052| 22.0|2011|    Fiction|\n",
            "|12 Rules for Life...|Jordan B. Peterson|        4.7|  18979| 15.0|2018|Non Fiction|\n",
            "+--------------------+------------------+-----------+-------+-----+----+-----------+\n",
            "only showing top 3 rows\n",
            "\n"
          ]
        }
      ]
    },
    {
      "cell_type": "markdown",
      "source": [
        "Используя только RDD вычислить среднюю цену всех книг, у которых рейтинг выше 4.7"
      ],
      "metadata": {
        "id": "5wMh3-TFYuip"
      }
    },
    {
      "cell_type": "code",
      "source": [
        "df.filter(df.user_rating >= 4.7).agg({\"price\": \"avg\"}).show()"
      ],
      "metadata": {
        "id": "i27gnEVO30r8",
        "outputId": "e81bfdb3-47e7-4911-981c-dc826f6849d7",
        "colab": {
          "base_uri": "https://localhost:8080/"
        }
      },
      "execution_count": 8,
      "outputs": [
        {
          "output_type": "stream",
          "name": "stdout",
          "text": [
            "+-----------------+\n",
            "|       avg(price)|\n",
            "+-----------------+\n",
            "|10.69832402234637|\n",
            "+-----------------+\n",
            "\n"
          ]
        }
      ]
    },
    {
      "cell_type": "markdown",
      "source": [
        "Построить гистограмму распределения рецензий (столбец Reviews)."
      ],
      "metadata": {
        "id": "N9LEFSthxTd9"
      }
    },
    {
      "cell_type": "code",
      "source": [
        "import matplotlib.pyplot as plt\n",
        "\n",
        "plt.figure(figsize = (14,6))\n",
        "plt.hist(df.toPandas()['reviews'], color = 'blue', edgecolor = 'black', bins = 100)\n",
        "plt.xlabel('Reviews')\n",
        "plt.ylabel('Frequency')\n",
        "plt.xlim(0, None)\n",
        "plt.grid(linestyle='--', axis='y')\n",
        "plt.show()"
      ],
      "metadata": {
        "id": "b6g3BTz4POe0",
        "outputId": "ac651fd2-f55c-4a0a-b334-1ea9ae15eba6",
        "colab": {
          "base_uri": "https://localhost:8080/",
          "height": 492
        }
      },
      "execution_count": 17,
      "outputs": [
        {
          "output_type": "display_data",
          "data": {
            "text/plain": [
              "<Figure size 1400x600 with 1 Axes>"
            ],
            "image/png": "[encoded data removed]"
          },
          "metadata": {}
        }
      ]
    },
    {
      "cell_type": "markdown",
      "source": [
        "Построить матрицу корреляции для столбцов \"User Rating\", \"Reviews\" и \"Price\"."
      ],
      "metadata": {
        "id": "psS8TO2a78Sw"
      }
    },
    {
      "cell_type": "code",
      "source": [
        "df.corr('user_rating', 'reviews')"
      ],
      "metadata": {
        "colab": {
          "base_uri": "https://localhost:8080/"
        },
        "id": "h1g-kwMu78_4",
        "outputId": "3783aae0-31d6-4284-ce5f-52c4393f3f7d"
      },
      "execution_count": 18,
      "outputs": [
        {
          "output_type": "execute_result",
          "data": {
            "text/plain": [
              "-0.0017290088319646029"
            ]
          },
          "metadata": {},
          "execution_count": 18
        }
      ]
    },
    {
      "cell_type": "code",
      "source": [
        "df.corr('user_rating', 'price')"
      ],
      "metadata": {
        "id": "zeWGaedo-_4d",
        "outputId": "2c813efe-1e0c-4442-86c7-142c3472d6fc",
        "colab": {
          "base_uri": "https://localhost:8080/"
        }
      },
      "execution_count": 19,
      "outputs": [
        {
          "output_type": "execute_result",
          "data": {
            "text/plain": [
              "-0.13308630757790718"
            ]
          },
          "metadata": {},
          "execution_count": 19
        }
      ]
    },
    {
      "cell_type": "code",
      "source": [
        "df.corr('reviews', 'price')"
      ],
      "metadata": {
        "id": "AtpYGamw_Dgr",
        "outputId": "35169f72-5ac8-47b7-a295-1ac204610b70",
        "colab": {
          "base_uri": "https://localhost:8080/"
        }
      },
      "execution_count": 20,
      "outputs": [
        {
          "output_type": "execute_result",
          "data": {
            "text/plain": [
              "-0.10918188342780513"
            ]
          },
          "metadata": {},
          "execution_count": 20
        }
      ]
    },
    {
      "cell_type": "code",
      "source": [
        "from pyspark.ml.stat import Correlation\n",
        "\n",
        "# Correlation.corr(df, 'reviews', 'pearson').collect()[0][0]\n",
        "\n",
        "dataset = [df['user_rating'], df['reviews'], df['price']]\n",
        "dataset\n",
        "# dataset = spark.createDataFrame(dataset, ['features'])\n",
        "\n",
        "\n",
        "features = dataset.map(lambda row: row[0:])\n",
        "\n",
        "from pyspark.mllib.stat import Statistics\n",
        "\n",
        "corr_mat=Statistics.corr(features, method=\"pearson\")"
      ],
      "metadata": {
        "id": "3Njep16KADBR",
        "outputId": "9acb4229-9a34-467f-9e8d-92ed513ca22c",
        "colab": {
          "base_uri": "https://localhost:8080/"
        }
      },
      "execution_count": 30,
      "outputs": [
        {
          "output_type": "execute_result",
          "data": {
            "text/plain": [
              "[Column<'user_rating'>, Column<'reviews'>, Column<'price'>]"
            ]
          },
          "metadata": {},
          "execution_count": 30
        }
      ]
    }
  ]
}