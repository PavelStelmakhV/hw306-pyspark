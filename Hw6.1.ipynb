{
  "nbformat": 4,
  "nbformat_minor": 0,
  "metadata": {
    "colab": {
      "provenance": [],
      "authorship_tag": "ABX9TyPBp3iVjZdS/uF9DnBY4tIR",
      "include_colab_link": true
    },
    "kernelspec": {
      "name": "python3",
      "display_name": "Python 3"
    },
    "language_info": {
      "name": "python"
    }
  },
  "cells": [
    {
      "cell_type": "markdown",
      "metadata": {
        "id": "view-in-github",
        "colab_type": "text"
      },
      "source": [
        "<a href=\"https://colab.research.google.com/github/PavelStelmakhV/hw306-pyspark/blob/main/Hw6.1.ipynb\" target=\"_parent\"><img src=\"https://colab.research.google.com/assets/colab-badge.svg\" alt=\"Open In Colab\"/></a>"
      ]
    },
    {
      "cell_type": "code",
      "source": [
        "!pip install pyspark"
      ],
      "metadata": {
        "id": "yXOiEmERX6a0",
        "outputId": "b432a995-1e12-4b14-a1fe-a16657ac5972",
        "colab": {
          "base_uri": "https://localhost:8080/"
        }
      },
      "execution_count": 1,
      "outputs": [
        {
          "output_type": "stream",
          "name": "stdout",
          "text": [
            "Looking in indexes: https://pypi.org/simple, https://us-python.pkg.dev/colab-wheels/public/simple/\n",
            "Collecting pyspark\n",
            "  Downloading pyspark-3.4.0.tar.gz (310.8 MB)\n",
            "\u001b[2K     \u001b[90m━━━━━━━━━━━━━━━━━━━━━━━━━━━━━━━━━━━━━━━\u001b[0m \u001b[32m310.8/310.8 MB\u001b[0m \u001b[31m4.2 MB/s\u001b[0m eta \u001b[36m0:00:00\u001b[0m\n",
            "\u001b[?25h  Preparing metadata (setup.py) ... \u001b[?25l\u001b[?25hdone\n",
            "Requirement already satisfied: py4j==0.10.9.7 in /usr/local/lib/python3.9/dist-packages (from pyspark) (0.10.9.7)\n",
            "Building wheels for collected packages: pyspark\n",
            "  Building wheel for pyspark (setup.py) ... \u001b[?25l\u001b[?25hdone\n",
            "  Created wheel for pyspark: filename=pyspark-3.4.0-py2.py3-none-any.whl size=311317145 sha256=472576486b434cf5fcbe3c351437a8af539a279ac42db438578eacd890a6b63c\n",
            "  Stored in directory: /root/.cache/pip/wheels/9f/34/a4/159aa12d0a510d5ff7c8f0220abbea42e5d81ecf588c4fd884\n",
            "Successfully built pyspark\n",
            "Installing collected packages: pyspark\n",
            "Successfully installed pyspark-3.4.0\n"
          ]
        }
      ]
    },
    {
      "cell_type": "code",
      "execution_count": 2,
      "metadata": {
        "colab": {
          "base_uri": "https://localhost:8080/"
        },
        "id": "yp88cnmRO9g8",
        "outputId": "3c5ff12c-8e0a-41b2-b863-f233edb65e92"
      },
      "outputs": [
        {
          "output_type": "stream",
          "name": "stdout",
          "text": [
            "Mounted at /content/drive\n"
          ]
        }
      ],
      "source": [
        "from google.colab import drive\n",
        "from google.colab import files\n",
        "\n",
        "\n",
        "drive.mount('/content/drive')\n",
        "path = '/content/drive/My Drive/'\n",
        "file_name = 'bestsellers with categories.csv'"
      ]
    },
    {
      "cell_type": "code",
      "source": [
        "import pandas as pd\n",
        "import pyspark\n",
        "from pyspark.sql import Row\n",
        "from pyspark.sql import SparkSession\n",
        "from pyspark.sql.functions import mean, stddev, round as _round\n",
        "from pyspark.sql.types import *\n",
        "\n",
        "\n",
        "spark = SparkSession.builder.getOrCreate()\n",
        "\n",
        "# spark = SparkSession.builder\\\n",
        "        # .master(\"local[*]\")\\\n",
        "        # .appName('Hw6.1')\\\n",
        "        # .getOrCreate()"
      ],
      "metadata": {
        "id": "r1yQLXe6Qngg"
      },
      "execution_count": 9,
      "outputs": []
    },
    {
      "cell_type": "code",
      "source": [
        "data_schema = [\n",
        "               StructField('name', StringType(), True),\n",
        "               StructField('author', StringType(), True),\n",
        "               StructField('user_rating', FloatType(), True),\n",
        "               StructField('reviews', IntegerType(), True),\n",
        "               StructField('price', FloatType(), True),\n",
        "               StructField('year', IntegerType(), True),\n",
        "               StructField('genre', StringType(), True),\n",
        "            ]\n",
        "\n",
        "final_struc = StructType(fields = data_schema)"
      ],
      "metadata": {
        "id": "QtOK9KARf8fl"
      },
      "execution_count": 11,
      "outputs": []
    },
    {
      "cell_type": "code",
      "source": [
        "csv_file = path + file_name\n",
        "df = spark.read.csv(csv_file, header=True, schema=final_struc)"
      ],
      "metadata": {
        "id": "SHKzMEqlodNG"
      },
      "execution_count": 12,
      "outputs": []
    },
    {
      "cell_type": "code",
      "source": [
        "df.show()"
      ],
      "metadata": {
        "colab": {
          "base_uri": "https://localhost:8080/"
        },
        "id": "8EKr89-OqvXB",
        "outputId": "7a1b85f0-d7aa-4fce-fce7-0960a3265a48"
      },
      "execution_count": 13,
      "outputs": [
        {
          "output_type": "stream",
          "name": "stdout",
          "text": [
            "+--------------------+--------------------+-----------+-------+-----+----+-----------+\n",
            "|                name|              author|user_rating|reviews|price|year|      genre|\n",
            "+--------------------+--------------------+-----------+-------+-----+----+-----------+\n",
            "|10-Day Green Smoo...|            JJ Smith|        4.7|  17350|  8.0|2016|Non Fiction|\n",
            "|   11/22/63: A Novel|        Stephen King|        4.6|   2052| 22.0|2011|    Fiction|\n",
            "|12 Rules for Life...|  Jordan B. Peterson|        4.7|  18979| 15.0|2018|Non Fiction|\n",
            "|1984 (Signet Clas...|       George Orwell|        4.7|  21424|  6.0|2017|    Fiction|\n",
            "|5,000 Awesome Fac...|National Geograph...|        4.8|   7665| 12.0|2019|Non Fiction|\n",
            "|A Dance with Drag...| George R. R. Martin|        4.4|  12643| 11.0|2011|    Fiction|\n",
            "|A Game of Thrones...| George R. R. Martin|        4.7|  19735| 30.0|2014|    Fiction|\n",
            "|A Gentleman in Mo...|         Amor Towles|        4.7|  19699| 15.0|2017|    Fiction|\n",
            "|A Higher Loyalty:...|         James Comey|        4.7|   5983|  3.0|2018|Non Fiction|\n",
            "|A Man Called Ove:...|     Fredrik Backman|        4.6|  23848|  8.0|2016|    Fiction|\n",
            "|A Man Called Ove:...|     Fredrik Backman|        4.6|  23848|  8.0|2017|    Fiction|\n",
            "|A Patriot's Histo...|    Larry Schweikart|        4.6|    460|  2.0|2010|Non Fiction|\n",
            "|A Stolen Life: A ...|       Jaycee Dugard|        4.6|   4149| 32.0|2011|Non Fiction|\n",
            "|A Wrinkle in Time...|   Madeleine L'Engle|        4.5|   5153|  5.0|2018|    Fiction|\n",
            "|Act Like a Lady, ...|        Steve Harvey|        4.6|   5013| 17.0|2009|Non Fiction|\n",
            "|Adult Coloring Bo...|Adult Coloring Bo...|        4.5|   2313|  4.0|2016|Non Fiction|\n",
            "|Adult Coloring Bo...|  Blue Star Coloring|        4.6|   2925|  6.0|2015|Non Fiction|\n",
            "|Adult Coloring Bo...|  Blue Star Coloring|        4.4|   2951|  6.0|2015|Non Fiction|\n",
            "|Adult Coloring Bo...|Coloring Books fo...|        4.5|   2426|  8.0|2015|Non Fiction|\n",
            "|  Alexander Hamilton|         Ron Chernow|        4.8|   9198| 13.0|2016|Non Fiction|\n",
            "+--------------------+--------------------+-----------+-------+-----+----+-----------+\n",
            "only showing top 20 rows\n",
            "\n"
          ]
        }
      ]
    },
    {
      "cell_type": "markdown",
      "source": [
        "Используя только RDD вычислить среднюю цену всех книг, у которых рейтинг выше 4.7"
      ],
      "metadata": {
        "id": "5wMh3-TFYuip"
      }
    },
    {
      "cell_type": "code",
      "source": [
        "df.printSchema()"
      ],
      "metadata": {
        "id": "swUHTvhbxpc2",
        "outputId": "f9e7699b-6955-4b03-9812-4390df1335c2",
        "colab": {
          "base_uri": "https://localhost:8080/"
        }
      },
      "execution_count": 7,
      "outputs": [
        {
          "output_type": "stream",
          "name": "stdout",
          "text": [
            "root\n",
            " |-- Name: string (nullable = true)\n",
            " |-- Author: string (nullable = true)\n",
            " |-- User Rating: string (nullable = true)\n",
            " |-- Reviews: string (nullable = true)\n",
            " |-- Price: string (nullable = true)\n",
            " |-- Year: string (nullable = true)\n",
            " |-- Genre: string (nullable = true)\n",
            "\n"
          ]
        }
      ]
    },
    {
      "cell_type": "code",
      "source": [
        "df.dtypes"
      ],
      "metadata": {
        "id": "_V-x9FdZvu0h",
        "outputId": "d03b1840-fddc-41ea-8dbf-817110211930",
        "colab": {
          "base_uri": "https://localhost:8080/"
        }
      },
      "execution_count": 15,
      "outputs": [
        {
          "output_type": "execute_result",
          "data": {
            "text/plain": [
              "[('name', 'string'),\n",
              " ('author', 'string'),\n",
              " ('user_rating', 'float'),\n",
              " ('reviews', 'int'),\n",
              " ('price', 'float'),\n",
              " ('year', 'int'),\n",
              " ('genre', 'string')]"
            ]
          },
          "metadata": {},
          "execution_count": 15
        }
      ]
    },
    {
      "cell_type": "code",
      "source": [
        "df.describe().show()"
      ],
      "metadata": {
        "id": "v5-REp-T28GV",
        "outputId": "71f5004c-d815-4555-8fc8-578d297e7131",
        "colab": {
          "base_uri": "https://localhost:8080/"
        }
      },
      "execution_count": 18,
      "outputs": [
        {
          "output_type": "stream",
          "name": "stdout",
          "text": [
            "+-------+--------------------+----------------+-------------------+------------------+------------------+------------------+-----------+\n",
            "|summary|                name|          author|        user_rating|           reviews|             price|              year|      genre|\n",
            "+-------+--------------------+----------------+-------------------+------------------+------------------+------------------+-----------+\n",
            "|  count|                 550|             550|                550|               550|               550|               550|        550|\n",
            "|   mean|                null|            null| 4.6183636452934955|11953.281818181818|              13.1|            2014.0|       null|\n",
            "| stddev|                null|            null|0.22698038875323445|11731.132017431892|10.842261978422364|3.1651563841692782|       null|\n",
            "|    min|\"The Plant Parado...|Abraham Verghese|                3.3|                37|               0.0|              2009|    Fiction|\n",
            "|    max|You Are a Badass:...|    Zhi Gang Sha|                4.9|             87841|             105.0|              2019|Non Fiction|\n",
            "+-------+--------------------+----------------+-------------------+------------------+------------------+------------------+-----------+\n",
            "\n"
          ]
        }
      ]
    },
    {
      "cell_type": "code",
      "source": [
        "df.filter(df.user_rating >= 4.7).show()"
      ],
      "metadata": {
        "id": "i27gnEVO30r8",
        "outputId": "d4d11846-6937-4e8b-e4d8-57a943e18b92",
        "colab": {
          "base_uri": "https://localhost:8080/"
        }
      },
      "execution_count": 19,
      "outputs": [
        {
          "output_type": "stream",
          "name": "stdout",
          "text": [
            "+--------------------+--------------------+-----------+-------+-----+----+-----------+\n",
            "|                name|              author|user_rating|reviews|price|year|      genre|\n",
            "+--------------------+--------------------+-----------+-------+-----+----+-----------+\n",
            "|5,000 Awesome Fac...|National Geograph...|        4.8|   7665| 12.0|2019|Non Fiction|\n",
            "|  Alexander Hamilton|         Ron Chernow|        4.8|   9198| 13.0|2016|Non Fiction|\n",
            "|Barefoot Contessa...|          Ina Garten|        4.8|   1296| 24.0|2012|Non Fiction|\n",
            "|            Becoming|      Michelle Obama|        4.8|  61133| 11.0|2018|Non Fiction|\n",
            "|            Becoming|      Michelle Obama|        4.8|  61133| 11.0|2019|Non Fiction|\n",
            "|Being Mortal: Med...|        Atul Gawande|        4.8|  11113| 15.0|2015|Non Fiction|\n",
            "|Brown Bear, Brown...|     Bill Martin Jr.|        4.9|  14344|  5.0|2017|    Fiction|\n",
            "|Brown Bear, Brown...|     Bill Martin Jr.|        4.9|  14344|  5.0|2019|    Fiction|\n",
            "|Cabin Fever (Diar...|         Jeff Kinney|        4.8|   4505|  0.0|2011|    Fiction|\n",
            "|Can't Hurt Me: Ma...|       David Goggins|        4.8|  16244| 18.0|2019|Non Fiction|\n",
            "|Creative Haven Cr...|     Marjorie Sarnat|        4.8|   4022|  4.0|2015|Non Fiction|\n",
            "|Creative Haven Ow...|     Marjorie Sarnat|        4.8|   3871|  5.0|2015|Non Fiction|\n",
            "|Daring Greatly: H...|        Brené Brown|        4.8|   1329| 10.0|2013|Non Fiction|\n",
            "|Dear Zoo: A Lift-...|        Rod Campbell|        4.8|  10922|  5.0|2015|    Fiction|\n",
            "|Dear Zoo: A Lift-...|        Rod Campbell|        4.8|  10922|  5.0|2016|    Fiction|\n",
            "|Dear Zoo: A Lift-...|        Rod Campbell|        4.8|  10922|  5.0|2017|    Fiction|\n",
            "|Dear Zoo: A Lift-...|        Rod Campbell|        4.8|  10922|  5.0|2018|    Fiction|\n",
            "|Diary of a Wimpy ...|         Jeff Kinney|        4.8|   6812|  0.0|2013|    Fiction|\n",
            "|Diary of a Wimpy ...|         Jeff Kinney|        4.8|   3837| 15.0|2009|    Fiction|\n",
            "|Diary of a Wimpy ...|         Jeff Kinney|        4.8|   6540| 22.0|2014|    Fiction|\n",
            "+--------------------+--------------------+-----------+-------+-----+----+-----------+\n",
            "only showing top 20 rows\n",
            "\n"
          ]
        }
      ]
    }
  ]
}